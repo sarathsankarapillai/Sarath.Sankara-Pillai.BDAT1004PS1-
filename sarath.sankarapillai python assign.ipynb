{
 "cells": [
  {
   "cell_type": "markdown",
   "id": "a68726fa",
   "metadata": {},
   "source": [
    "# Question 6:"
   ]
  },
  {
   "cell_type": "code",
   "execution_count": 15,
   "id": "715606cf",
   "metadata": {},
   "outputs": [],
   "source": [
    "def pig(x):\n",
    "    \n",
    "\n",
    "\n",
    "    stringarr = x.split()\n",
    "\n",
    "\n",
    "    y = []\n",
    "\n",
    "    for alpha in stringarr:\n",
    "\n",
    "\n",
    "        if alpha[0] in [\"a\", \"e\", \"i\", \"o\", \"u\"]:\n",
    "            alpha1 = alpha+\"way\"\n",
    "            y.append(alpha1)\n",
    "\n",
    "\n",
    "\n",
    "        else:\n",
    "            alpha1 = alpha[1:] + alpha[0] + \"ay\"\n",
    "            y.append(alpha1)\n",
    "\n",
    "\n",
    "\n",
    "    alpha1 = \" \".join(alpha1)\n",
    "\n",
    "    print(alpha1)"
   ]
  },
  {
   "cell_type": "code",
   "execution_count": 17,
   "id": "64926520",
   "metadata": {},
   "outputs": [
    {
     "name": "stdout",
     "output_type": "stream",
     "text": [
      "e n t e r w a y\n"
     ]
    }
   ],
   "source": [
    "pig('enter')"
   ]
  },
  {
   "cell_type": "markdown",
   "id": "39a6b38f",
   "metadata": {},
   "source": [
    "# Question 7"
   ]
  },
  {
   "cell_type": "code",
   "execution_count": 35,
   "id": "a4a690d6",
   "metadata": {},
   "outputs": [],
   "source": [
    "def countfn(x):\n",
    "    x= open(r'F:\\bloodgrp.txt')\n",
    "        \n",
    "    grptxt=x.read().split()\n",
    "    print(grptxt)\n",
    "    A_grp,B_grp,AB_grp,O_grp,OO_grp =0,0,0,0,0\n",
    "    for k in grptxt:\n",
    "                if k =='A':\n",
    "                    A_grp+=1\n",
    "                elif k=='B':\n",
    "                    B_grp+=1\n",
    "                elif k=='AB':\n",
    "                    AB_grp+=1\n",
    "                elif k=='O':\n",
    "                     O_grp+=1\n",
    "                else:\n",
    "                    OO_grp+=1\n",
    "    print(\"There are\",A_grp,\"patients of blood type A\")\n",
    "    print(\"There are\", B_grp,\"patients of blood type B\")\n",
    "    print(\"There are\",AB_grp,\"patients of blood type AB\")\n",
    "    print(\"There are\",O_grp,\"patients of blood type O\")\n",
    "    print(\"There are\",OO_grp,\"patients of blood type OO\")\n",
    "\n",
    "  "
   ]
  },
  {
   "cell_type": "code",
   "execution_count": 30,
   "id": "78430976",
   "metadata": {},
   "outputs": [
    {
     "name": "stdout",
     "output_type": "stream",
     "text": [
      "['AB', 'AB', 'B', 'O', 'A', 'A', 'AB', 'O', 'AB', 'A', 'O', 'O', 'A', 'A', 'A', 'O', 'O', 'O', 'AB', 'O', 'A', 'A', 'A', 'A', 'A', 'AB', 'AB', 'A', 'AB', 'O', 'AB', 'O', 'A', 'O', 'O', 'O', 'AB', 'O', 'AB', 'AB', 'AB', 'A', 'A', 'O']\n",
      "There are 15 patients of blood type A\n",
      "There are 1 patients of blood type B\n",
      "There are 13 patients of blood type AB\n",
      "There are 15 patients of blood type O\n",
      "There are 0 patients of blood type OO\n"
     ]
    }
   ],
   "source": [
    "countfn('F:\\bloodgrp.txt')"
   ]
  },
  {
   "cell_type": "markdown",
   "id": "bb48e0fd",
   "metadata": {},
   "source": [
    "# Question 8"
   ]
  },
  {
   "cell_type": "code",
   "execution_count": 39,
   "id": "be4da072",
   "metadata": {},
   "outputs": [],
   "source": [
    "def convert(currency,value):\n",
    "    path = open(r'F:\\curr.txt')\n",
    "    x=path.readlines()\n",
    "    list1=[]\n",
    "    list2=[]\n",
    "    list3=[]\n",
    "    path.close()\n",
    "    for i in x:\n",
    "        j=0\n",
    "        k=i.split('\\t')\n",
    "        for j in range(len(k)-2):\n",
    "            list1.append(k[j])\n",
    "            list2.append(float(k[j+1]))\n",
    "            list3.append(k[j+2].strip())\n",
    "    h=list1.index(currency)\n",
    "    return value*list2[h]\n"
   ]
  },
  {
   "cell_type": "code",
   "execution_count": 42,
   "id": "fe71f59f",
   "metadata": {},
   "outputs": [
    {
     "data": {
      "text/plain": [
       "122.96544"
      ]
     },
     "execution_count": 42,
     "metadata": {},
     "output_type": "execute_result"
    }
   ],
   "source": [
    "convert(\"EUR\",100)"
   ]
  },
  {
   "cell_type": "markdown",
   "id": "dd690802",
   "metadata": {},
   "source": [
    "# Question 9:"
   ]
  },
  {
   "cell_type": "code",
   "execution_count": null,
   "id": "72745a9e",
   "metadata": {},
   "outputs": [],
   "source": [
    "1. Type Error occurs.\n",
    "2. Out of index  error occurs\n",
    "3.when a number which is not of the functions range has been used \"Domain error occurs\"\n",
    "4. when a  variable which is not declared has been useed \"Variable not defined\" error occurs \n",
    "5. while opening a file that doesnt exist this type of error occurs 'Sorry, no such dictionary was found'."
   ]
  }
 ],
 "metadata": {
  "kernelspec": {
   "display_name": "Python 3 (ipykernel)",
   "language": "python",
   "name": "python3"
  },
  "language_info": {
   "codemirror_mode": {
    "name": "ipython",
    "version": 3
   },
   "file_extension": ".py",
   "mimetype": "text/x-python",
   "name": "python",
   "nbconvert_exporter": "python",
   "pygments_lexer": "ipython3",
   "version": "3.9.12"
  }
 },
 "nbformat": 4,
 "nbformat_minor": 5
}
