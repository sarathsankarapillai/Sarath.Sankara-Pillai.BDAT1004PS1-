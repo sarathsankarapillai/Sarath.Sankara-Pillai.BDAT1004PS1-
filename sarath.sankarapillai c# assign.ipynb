{
 "cells": [
  {
   "cell_type": "markdown",
   "id": "9436ebcd",
   "metadata": {},
   "source": [
    "# Question 1"
   ]
  },
  {
   "cell_type": "code",
   "execution_count": null,
   "id": "0401046b",
   "metadata": {},
   "outputs": [],
   "source": [
    "5 is an Integer \n",
    "\n",
    "5.0 is a floating  data type \n",
    "\n",
    "5 > 1 is a Relational operator \n",
    "\n",
    "'5' is a string datatype \n",
    "\n",
    "5 * 2 is Arithmetic operator\n",
    "\n",
    "'5' * 2 is a string datatype\n",
    "\n",
    "\n",
    "'5' + '2'is a string data type \n",
    "\n",
    "5 / 2 is Arithmetic operator\n",
    "\n",
    "5 % 2 is an Arithmetic Operator \n",
    "\n",
    "{5, 2, 1}is an array\n",
    "\n",
    "5 == 3 is relational operators \n",
    "\n",
    "Pi (the number) -Logical operators"
   ]
  },
  {
   "cell_type": "markdown",
   "id": "23e67f9e",
   "metadata": {},
   "source": [
    "# Question 2\n"
   ]
  },
  {
   "cell_type": "code",
   "execution_count": 42,
   "id": "7c78e1bb",
   "metadata": {},
   "outputs": [
    {
     "name": "stdout",
     "output_type": "stream",
     "text": [
      "Number of words in the string = 34\n",
      "does the string contain specified word: True\n"
     ]
    }
   ],
   "source": [
    "     \n",
    "    //2.1 \n",
    "       string str = \"Supercalifragilisticexpialidocious\";\n",
    "        string word=\"ice\";\n",
    "        int len = str.Length;\n",
    "        Console.Write(\"Number of words in the string = {0}\\n\", len);\n",
    "\n",
    "//2.2\n",
    "         Boolean ans=str.Contains(word);\n",
    "         Console.Write(\"does the string contain specified word: {0}\\n\", ans);"
   ]
  },
  {
   "cell_type": "code",
   "execution_count": 30,
   "id": "16b8fe84",
   "metadata": {},
   "outputs": [
    {
     "name": "stdout",
     "output_type": "stream",
     "text": [
      "string Bababadalgharaghtakamminarronnkonn is longer"
     ]
    }
   ],
   "source": [
    "//2.3\n",
    "\n",
    "string stra = \"Supercalifragilisticexpialidocious\";\n",
    "string strb = \"Honorificabilitudinitatibus\";\n",
    "string strc= \"Bababadalgharaghtakamminarronnkonn\";\n",
    "int len1 = stra.Length;\n",
    "int len2 = strb.Length;\n",
    "int len3= strc.Length;\n",
    "\n",
    "if(len1>len2 && len1>len3 )\n",
    "{\n",
    "  Console.Write($\"string {stra} is longer\" );\n",
    "}   \n",
    "else if(len2>len1 && len2>len3)\n",
    "        \n",
    "    {\n",
    "        Console.Write($\"string {strb} is longer\" );\n",
    "    }\n",
    "\n",
    "\n",
    "else{\n",
    "    Console.Write($\"string {strc} is longer\" );\n",
    "}\n",
    "    \n",
    "   \n",
    "\n"
   ]
  },
  {
   "cell_type": "markdown",
   "id": "43087ac1",
   "metadata": {},
   "source": [
    "# Question 5"
   ]
  },
  {
   "cell_type": "code",
   "execution_count": 13,
   "id": "b8200fcd",
   "metadata": {},
   "outputs": [],
   "source": [
    "bool inside(int x1, int y1, int x2,int  y2, int x,int  y)\n",
    "    {\n",
    "     \n",
    "     if (x > x1 && x < x2 && y > y1 && y < y2)\n",
    "            return true;\n",
    "\n",
    "        return false;\n",
    "    }"
   ]
  },
  {
   "cell_type": "code",
   "execution_count": 17,
   "id": "8ae63b84",
   "metadata": {},
   "outputs": [
    {
     "data": {
      "text/html": [
       "<div class=\"dni-plaintext\">False</div>"
      ]
     },
     "execution_count": 17,
     "metadata": {},
     "output_type": "execute_result"
    }
   ],
   "source": [
    "inside(0,0,2,3,-1,-1)"
   ]
  },
  {
   "cell_type": "code",
   "execution_count": 24,
   "id": "3b3c6574",
   "metadata": {},
   "outputs": [],
   "source": [
    "bool inside2(double x1, double y1, double x2,double  y2, double x,double  y)\n",
    "    {\n",
    "     \n",
    "     if (x > x1 && x < x2 && y > y1 && y < y2)\n",
    "            return true;\n",
    "\n",
    "        return false;\n",
    "    }"
   ]
  },
  {
   "cell_type": "code",
   "execution_count": 25,
   "id": "45d7b818",
   "metadata": {},
   "outputs": [
    {
     "data": {
      "text/html": [
       "<div class=\"dni-plaintext\">True</div>"
      ]
     },
     "execution_count": 25,
     "metadata": {},
     "output_type": "execute_result"
    }
   ],
   "source": [
    "inside2(0.3,0.5,2,3,1,1)"
   ]
  },
  {
   "cell_type": "code",
   "execution_count": 33,
   "id": "e670ea7c",
   "metadata": {},
   "outputs": [
    {
     "data": {
      "text/html": [
       "<div class=\"dni-plaintext\">True</div>"
      ]
     },
     "execution_count": 33,
     "metadata": {},
     "output_type": "execute_result"
    }
   ],
   "source": [
    "inside2(0.5,0.2,1.1,2,1,1)"
   ]
  },
  {
   "cell_type": "markdown",
   "id": "aafef745",
   "metadata": {},
   "source": [
    "# Question 3:"
   ]
  },
  {
   "cell_type": "code",
   "execution_count": 38,
   "id": "82530ce3",
   "metadata": {},
   "outputs": [
    {
     "name": "stdout",
     "output_type": "stream",
     "text": [
      "Area of tirangle:68.22756041366274"
     ]
    }
   ],
   "source": [
    "double a = 12;\n",
    "        \n",
    "        double b = 14;\n",
    "        \n",
    "        double c = 12;\n",
    "\n",
    "        \n",
    "        double s = (a + b+ c) / 2;\n",
    "        double x = s - a;\n",
    "        double y = s - b;\n",
    "        double z = s - c;\n",
    "\n",
    "        double area = Math.Sqrt(s*x*y*z);\n",
    "        Console.Write($\"Area of tirangle:{area}\");"
   ]
  },
  {
   "cell_type": "markdown",
   "id": "9d006d93",
   "metadata": {},
   "source": [
    "# Question 4"
   ]
  },
  {
   "cell_type": "code",
   "execution_count": 39,
   "id": "ae5e4ad2",
   "metadata": {},
   "outputs": [
    {
     "name": "stdout",
     "output_type": "stream",
     "text": [
      "Even numbers...\n",
      "42\n",
      "56\n",
      "32\n",
      "Odd numbers...\n",
      "25\n",
      "47\n"
     ]
    }
   ],
   "source": [
    " int[] x = new int[] {\n",
    "            25,\n",
    "            47,\n",
    "            42,\n",
    "            56,\n",
    "            32\n",
    "         };\n",
    "            int[] y = new int[5];\n",
    "            int[] z = new int[5];\n",
    "            int i, j = 0, k = 0; \n",
    "            for (i = 0; i < 5; i++)\n",
    "            {\n",
    "                if (x[i] % 2 == 0)\n",
    "                {\n",
    "                    y[j] = x[i];\n",
    "                    j++;\n",
    "                }\n",
    "                else\n",
    "                {\n",
    "                    z[k] = x[i];\n",
    "                    k++;\n",
    "                }\n",
    "            }\n",
    "            Console.WriteLine(\"Even numbers...\");\n",
    "            for (i = 0; i < j; i++)\n",
    "            {\n",
    "                Console.WriteLine(y[i]);\n",
    "            }\n",
    "            Console.WriteLine(\"Odd numbers...\");\n",
    "            for (i = 0; i < k; i++)\n",
    "            {\n",
    "                Console.WriteLine(z[i]);\n",
    "            }"
   ]
  },
  {
   "cell_type": "raw",
   "id": "d002fb15",
   "metadata": {},
   "source": []
  },
  {
   "cell_type": "code",
   "execution_count": null,
   "id": "324f11ab",
   "metadata": {},
   "outputs": [],
   "source": []
  },
  {
   "cell_type": "code",
   "execution_count": null,
   "id": "3adfdb25",
   "metadata": {},
   "outputs": [],
   "source": []
  },
  {
   "cell_type": "code",
   "execution_count": null,
   "id": "6b2b222c",
   "metadata": {},
   "outputs": [],
   "source": []
  }
 ],
 "metadata": {
  "kernelspec": {
   "display_name": ".NET (C#)",
   "language": "C#",
   "name": ".net-csharp"
  },
  "language_info": {
   "file_extension": ".cs",
   "mimetype": "text/x-csharp",
   "name": "C#",
   "pygments_lexer": "csharp",
   "version": "8.0"
  }
 },
 "nbformat": 4,
 "nbformat_minor": 5
}
